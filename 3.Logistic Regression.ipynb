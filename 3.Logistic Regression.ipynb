{
 "cells": [
  {
   "cell_type": "markdown",
   "id": "fd4d0423-c4c6-48c9-9d3c-9d33704bbf27",
   "metadata": {},
   "source": [
    "Q1. Explain the concept of precision and recall in the context of classification models."
   ]
  },
  {
   "cell_type": "markdown",
   "id": "9db37e4b-d840-41c8-9ccc-57af8e8a70e2",
   "metadata": {},
   "source": [
    "Precision and recall are two important metrics used to evaluate the performance of classification models, particularly in situations where class imbalances exist or when different types of classification errors have different consequences. They provide insights into how well a model is performing with respect to positive predictions (e.g., identifying a rare disease, detecting fraud) and are often used alongside other metrics like accuracy.\n",
    "\n",
    "1. Precision:\n",
    "   - Precision measures the accuracy of positive predictions made by the model, specifically the proportion of true positive predictions out of all positive predictions.\n",
    "   - Precision answers the question: \"Of all the instances that the model predicted as positive, how many were actually positive?\"\n",
    "   - It is calculated as: Precision = TP / (TP + FP)\n",
    "   - Key characteristics:\n",
    "     - High precision indicates that when the model predicts a positive outcome, it is likely to be correct.\n",
    "     - Precision is essential when false positives are costly or undesirable (e.g., classifying an email as spam when it's not).\n",
    "\n",
    "2. Recall (also known as Sensitivity or True Positive Rate):\n",
    "   - Recall measures the ability of the model to correctly identify positive instances, specifically the proportion of true positive predictions out of all actual positive instances.\n",
    "   - Recall answers the question: \"Of all the actual positive instances, how many did the model correctly identify?\"\n",
    "   - It is calculated as: Recall = TP / (TP + FN)\n",
    "   - Key characteristics:\n",
    "     - High recall indicates that the model is good at identifying most of the actual positive instances.\n",
    "     - Recall is crucial when false negatives are costly or undesirable (e.g., medical diagnoses where missing a disease diagnosis is serious).\n"
   ]
  },
  {
   "cell_type": "markdown",
   "id": "1ccc8bd9-75ac-4dbc-abf8-6bc344f46857",
   "metadata": {},
   "source": [
    "Q2. What is the F1 score and how is it calculated? How is it different from precision and recall?"
   ]
  },
  {
   "cell_type": "markdown",
   "id": "670377f1-28b9-4089-a90b-887ef267065f",
   "metadata": {},
   "source": [
    "## F1 SCORE:\n",
    "\n",
    "F1 score is a weighted average of precision and recall. As we know in precision and in recall there is false positive and false negative so it also consider both of them. F1 score is usually more useful than accuracy, especially if you have an uneven class distribution. Accuracy works best if false positives and false negatives have similar cost. If the cost of false positives and false negatives are very different, it’s better to look at both Precision and Recall.\n",
    "\n",
    "F1 Score = 2*(Recall * Precision) / (Recall + Precision)\n",
    "\n",
    "Differences between F1 Score, Precision, and Recall:\n",
    "\n",
    "1. F1 Score:\n",
    "    - Combines precision and recall into a single metric.\n",
    "    - Useful when there is a need to balance both metrics.\n",
    "    - Provides a single value that reflects the model's overall performance.\n",
    "\n",
    "2. Precision:\n",
    "    - Focuses on the accuracy of positive predictions.\n",
    "    - Measures the proportion of true positive predictions out of all positive predictions.\n",
    "    - Important when false positives are costly or undesirable.\n",
    "    \n",
    "3. Recall:\n",
    "    - Focuses on the model's ability to correctly identify positive instances.\n",
    "    - Measures the proportion of true positive predictions out of all actual positive instances.\n",
    "    - Important when false negatives are costly or undesirable."
   ]
  },
  {
   "cell_type": "markdown",
   "id": "6120b476-e810-4b79-a96b-feecf8944da0",
   "metadata": {},
   "source": [
    "Q3. What is ROC and AUC, and how are they used to evaluate the performance of classification models?"
   ]
  },
  {
   "cell_type": "markdown",
   "id": "61a18611-5c71-4f49-be0e-a4f827b6b42f",
   "metadata": {},
   "source": [
    "## ROC (Receiver Operating Characteristic):\n",
    "\n",
    "The ROC curve is a graphical representation that shows the performance of a classification model across various classification thresholds. It plots the true positive rate (TPR) against the false positive rate (FPR) as the threshold for classifying positive instances is varied.\n",
    "\n",
    "- True Positive Rate (TPR), also known as recall or sensitivity, is calculated as TP / (TP + FN). It measures the proportion of actual positive instances that the model correctly identifies.\n",
    "\n",
    "- False Positive Rate (FPR) is calculated as FP / (FP + TN). It measures the proportion of actual negative instances that the model incorrectly classifies as positive.\n",
    "\n",
    "The ROC curve provides a visual tool to understand how well the model is distinguishing between the positive and negative classes. A curve that hugs the top-left corner indicates a better-performing model.\n",
    "\n",
    "## AUC (Area Under the Curve):\n",
    "\n",
    "The AUC quantifies the overall performance of a classification model represented by the ROC curve. It measures the area under the ROC curve. The AUC value ranges from 0 to 1, where:\n",
    "\n",
    "- AUC = 0.5 indicates that the model performs no better than random chance.\n",
    "- AUC > 0.5 indicates that the model has some discriminatory power, with higher values indicating better performance.\n",
    "\n",
    "The ROC curve and AUC are valuable tools for evaluating the discrimination performance of classification models, especially in situations where class imbalance exists or where different types of classification errors have different consequences. They provide a comprehensive view of a model's performance across various thresholds and are widely used in various fields, including healthcare, finance, and machine learning."
   ]
  },
  {
   "cell_type": "markdown",
   "id": "9ee3072d-ad2c-4e6d-a3c3-008a37f287a5",
   "metadata": {},
   "source": [
    "Q4. How do you choose the best metric to evaluate the performance of a classification model?"
   ]
  },
  {
   "cell_type": "markdown",
   "id": "61c78aff-a37c-486d-8a22-be1a7c3fe971",
   "metadata": {},
   "source": [
    "Choosing the best metric to evaluate the performance of a classification model depends on several factors, including the specific problem, the characteristics of the dataset, and the goals of the analysis. Here are steps to help you select the most appropriate metric:\n",
    "\n",
    "1. Understand the Problem Domain:\n",
    "   - Gain a deep understanding of the problem you're trying to solve and the implications of classification errors. Consider the real-world consequences of false positives and false negatives.\n",
    "\n",
    "2. Consider Class Imbalance:\n",
    "   - Determine if your dataset has class imbalance, where one class significantly outweighs the other. In imbalanced datasets, accuracy may not be a suitable metric, and you should focus on other metrics like precision, recall, or the F1 score.\n",
    "\n",
    "3. Select Metrics Based on Goals:\n",
    "   - Choose metrics that align with your defined success criteria and goals. Common metrics include:\n",
    "     - Accuracy: Measures overall correctness and is suitable for balanced datasets.\n",
    "     - Precision: Focuses on minimizing false positives and is important when false positives are costly.\n",
    "     - Recall: Focuses on capturing most of the actual positives and is important when false negatives are costly.\n",
    "     - F1 Score: Balances precision and recall when you need to consider both metrics.\n",
    "     - AUC-ROC: Evaluates the model's ability to discriminate between classes and is useful for imbalanced datasets.\n",
    "     - AUC-PR (Area Under the Precision-Recall Curve): Particularly useful when dealing with imbalanced datasets and when the positive class is rare.\n",
    "\n",
    "4. Consider the Threshold:\n",
    "   - Keep in mind that many classification metrics are threshold-dependent. Different thresholds may yield different results for the same model. Choose a threshold that aligns with your objectives and class distribution.\n",
    "\n",
    "5. Use Multiple Metrics:\n",
    "   - In some cases, it's beneficial to use multiple metrics to get a comprehensive view of the model's performance. For example, you might use precision, recall, and the F1 score together to assess trade-offs between false positives and false negatives.\n",
    "\n",
    "6. Perform Cross-Validation:\n",
    "   - If applicable, use cross-validation techniques to assess the model's performance across different subsets of your data. This helps ensure that your chosen metrics are robust and consistent.\n"
   ]
  },
  {
   "cell_type": "markdown",
   "id": "4333c53c-de0a-4653-acae-89d30bb0d432",
   "metadata": {},
   "source": [
    "Q5. What is multiclass classification and how is it different from binary classification?"
   ]
  },
  {
   "cell_type": "markdown",
   "id": "2fa5147e-4548-4e2b-b295-b1c4c1ee5681",
   "metadata": {},
   "source": [
    "## Multiclass Classification:\n",
    "\n",
    "Multi-class classification is the task of classifying elements into different classes. Unlike binary, it doesn’t restrict itself to any number of classes. \n",
    "\n",
    "Examples of multi-class classification are \n",
    "    - Classification of news in different categories, \n",
    "    - Classifying books according to the subject, \n",
    "    - Classifying students according to their streams etc.\n",
    "    \n",
    "Here are the key differences between multiclass and binary classification:\n",
    "\n",
    "1. Number of Classes:\n",
    "    - Binary Classification: In binary classification, there are two mutually exclusive classes or categories. Examples include spam vs. not spam, fraud vs. not fraud, and benign vs. malignant.\n",
    "    - Multiclass Classification: In multiclass classification, there are three or more classes, each representing a distinct category. Examples include classifying images of animals into categories like cats, dogs, and birds, or classifying news articles into topics like politics, sports, and entertainment.\n",
    "    \n",
    "2. Decision Boundaries:\n",
    "    - Binary Classification: In binary classification, the model typically learns to draw a single decision boundary that separates the two classes.\n",
    "    - Multiclass Classification: In multiclass classification, the model must learn to differentiate between multiple classes, which may require defining multiple decision boundaries or decision regions.\n",
    "    \n",
    "3. Model Outputs:\n",
    "    - Binary Classification: In binary classification, the model often produces a single probability score or decision value that represents the likelihood of an instance belonging to the positive class. The threshold is applied to this score to make a binary prediction.\n",
    "    - Multiclass Classification: In multiclass classification, the model produces multiple probability scores or decision values, one for each class. The class with the highest score is typically chosen as the predicted class.\n",
    "    \n",
    "4. Evaluation Metrics:\n",
    "    - Binary Classification: Common evaluation metrics for binary classification include accuracy, precision, recall, F1 score, ROC curve, and AUC.\n",
    "    - Multiclass Classification: Evaluation metrics for multiclass classification include accuracy, macro-averaged precision, macro-averaged recall, macro-averaged F1 score, micro-averaged metrics, and confusion matrices that show performance across all classes."
   ]
  },
  {
   "cell_type": "markdown",
   "id": "7acfa6f0-678d-49d4-b02b-60e4fa7424b3",
   "metadata": {},
   "source": [
    "Q6. Explain how logistic regression can be used for multiclass classification."
   ]
  },
  {
   "cell_type": "markdown",
   "id": "c81e551e-3b49-4e4f-8cee-c2fcc08aafb9",
   "metadata": {},
   "source": [
    "Logistic regression, which is traditionally used for binary classification problems, can be extended to handle multiclass classification problems through various techniques. \n",
    "\n",
    "Two common approaches for using logistic regression in multiclass classification:\n",
    "1. One-vs-Rest (OvR) method \n",
    "2. Softmax or Multinomial method\n",
    "\n",
    "## One-vs-Rest (OvR):\n",
    "\n",
    "One-vs-rest (OvR for short, also referred to as One-vs-All or OvA) is a heuristic method for using binary classification algorithms for multi-class classification.\n",
    "It involves splitting the multi-class dataset into multiple binary classification problems. A binary classifier is then trained on each binary classification problem and predictions are made using the model that is the most confident.\n",
    "\n",
    "For example, given a multi-class classification problem with examples for each class ‘red,’ ‘blue,’ and ‘green‘. This could be divided into three binary classification datasets as follows:\n",
    "    - Binary Classification Problem 1: red vs [blue, green]\n",
    "    - Binary Classification Problem 2: blue vs [red, green]\n",
    "    - Binary Classification Problem 3: green vs [red, blue]\n",
    "    \n",
    "A possible downside of this approach is that it requires one model to be created for each class. For example, three classes require three models. This could be an issue for large datasets (e.g. millions of rows), slow models (e.g. neural networks), or very large numbers of classes (e.g. hundreds of classes).\n",
    "\n",
    "## Softmax or Multinomial method:\n",
    "\n",
    "The softmax or multinomial function is a mathematical function that takes a vector of real numbers as input and outputs a probability distribution over the classes. It is often used in machine learning for multiclass classification problems, including neural networks and logistic regression models.\n",
    "\n",
    "The softmax or multinomial function transforms the input vector into a probability distribution over the classes, where each class is assigned a probability between 0 and 1, and the sum of the probabilities is 1. The class with the highest probability is then selected as the predicted class.\n",
    "\n",
    "The softmax or multinomial function is a generalization of the logistic function used in binary classification. In binary classification, the logistic function is used to output a single probability value between 0 and 1, representing the probability of the input belonging to the positive class.\n",
    "\n",
    "The softmax or multinomial function is different from the sigmoid function, which is another function used in machine learning for binary classification. The sigmoid function outputs a value between 0 and 1, which can be interpreted as the probability of the input belonging to the positive class."
   ]
  },
  {
   "cell_type": "markdown",
   "id": "1fa73693-98c3-4f21-9d9f-d3cd86c936fe",
   "metadata": {},
   "source": [
    "Q7. Describe the steps involved in an end-to-end project for multiclass classification."
   ]
  },
  {
   "cell_type": "markdown",
   "id": "36edaf49-6ebc-401f-8e88-29473ce99607",
   "metadata": {},
   "source": [
    "An end-to-end project for multiclass classification involves several key steps, from data preparation to model evaluation and deployment. Here's a general outline of the steps involved:\n",
    "\n",
    "1. Problem Definition:\n",
    "   - Clearly define the problem you want to solve with multiclass classification.\n",
    "   - Determine the goals and objectives of the project, as well as the criteria for success.\n",
    "\n",
    "2. Data Collection:\n",
    "   - Gather and collect relevant data for your multiclass classification task.\n",
    "   - Ensure that the dataset contains features (independent variables) and labels (target classes) for each instance.\n",
    "\n",
    "3. Data Exploration and Preprocessing:\n",
    "   - Perform exploratory data analysis (EDA) to understand the dataset's characteristics.\n",
    "   - Handle missing data, outliers, and anomalies as needed.\n",
    "   - Explore class distribution to identify potential class imbalances.\n",
    "   - Preprocess data by encoding categorical variables, scaling features, and splitting the dataset into training, validation, and test sets.\n",
    "\n",
    "4. Feature Engineering:\n",
    "   - Engineer relevant features to improve the model's performance.\n",
    "   - Select and transform features based on domain knowledge and data analysis.\n",
    "\n",
    "5. Model Selection:\n",
    "   - Choose an appropriate machine learning algorithm or model for multiclass classification.\n",
    "   - Consider algorithms like logistic regression, decision trees, random forests, support vector machines, or deep learning models (e.g., neural networks).\n",
    "   - Select the model that best suits the characteristics of your dataset and problem requirements.\n",
    "\n",
    "6. Model Training:\n",
    "   - Train the selected model on the training dataset.\n",
    "   - Tune hyperparameters using techniques like cross-validation.\n",
    "   - Monitor model training for convergence and overfitting.\n",
    "\n",
    "7. Model Evaluation:\n",
    "   - Evaluate the model's performance using appropriate multiclass classification metrics such as accuracy, precision, recall, F1 score, and confusion matrices.\n",
    "   - Consider using techniques like k-fold cross-validation to assess model robustness.\n",
    "   - Analyze model errors and make necessary adjustments.\n",
    "\n",
    "8. Hyperparameter Tuning:\n",
    "   - Fine-tune the model's hyperparameters to optimize its performance.\n",
    "   - Use techniques like grid search or random search to search for the best hyperparameter values.\n",
    "\n",
    "9. Model Deployment:\n",
    "    - If the model meets performance criteria, deploy it to a production environment.\n",
    "    - Set up APIs or endpoints for making predictions on new data.\n",
    "    - Implement monitoring and logging for model performance and drift detection.\n",
    "\n",
    "An end-to-end multiclass classification project involves a combination of data preprocessing, model selection, evaluation, and deployment steps, along with continuous monitoring and improvement to maintain the model's performance over time. The specific details of each step may vary depending on the project's requirements and domain."
   ]
  },
  {
   "cell_type": "markdown",
   "id": "f4010be0-d5b2-4fc7-86aa-a52c1fc65626",
   "metadata": {},
   "source": [
    "Q8. What is model deployment and why is it important?"
   ]
  },
  {
   "cell_type": "markdown",
   "id": "4510008d-a29a-4c39-aaca-bd9c52148f44",
   "metadata": {},
   "source": [
    "Model Deployment:\n",
    "\n",
    "Model deployment is the process of putting machine learning models into production. This makes the model’s predictions available to users, developers or systems, so they can make business decisions based on data, interact with their application (like recognize a face in an image) and so on.\n",
    "\n",
    "Deployment is the method by which you integrate a machine learning model into an existing production environment to make practical business decisions based on data. It is one of the last stages in the machine learning life cycle and can be one of the most cumbersome.\n",
    "\n",
    "Why is it important?\n",
    "\n",
    "In order to start using a model for practical decision-making, it needs to be effectively deployed into production. If you cannot reliably get practical insights from your model, then the impact of the model is severely limited.\n",
    "\n",
    "Model deployment is one of the most difficult processes of gaining value from machine learning. It requires coordination between data scientists, IT teams, software developers, and business professionals to ensure the model works reliably in the organization’s production environment. This presents a major challenge because there is often a discrepancy between the programming language in which a machine learning model is written and the languages your production system can understand, and re-coding the model can extend the project timeline by weeks or months.\n",
    "\n",
    "In order to get the most value out of machine learning models, it is important to seamlessly deploy them into production so a business can start using them to make practical decisions."
   ]
  },
  {
   "cell_type": "markdown",
   "id": "e7bba64a-cf68-475b-8c87-2a522a6cb4ce",
   "metadata": {},
   "source": [
    "Q9. Explain how multi-cloud platforms are used for model deployment."
   ]
  },
  {
   "cell_type": "markdown",
   "id": "15e3ca31-cdbe-4328-825c-a66a678b7ed8",
   "metadata": {},
   "source": [
    "Multi-cloud platforms involve the use of multiple cloud service providers to host and deploy applications and models. In the context of model deployment, multi-cloud strategies are employed to achieve various objectives, including redundancy, scalability, cost optimization, and mitigating vendor lock-in. Here's an explanation of how multi-cloud platforms can be used for model deployment:\n",
    "\n",
    "1. Redundancy and High Availability:\n",
    "   - Multi-cloud platforms enable organizations to deploy their machine learning models across multiple cloud providers or regions. This redundancy ensures high availability and fault tolerance.\n",
    "   - If one cloud provider experiences downtime or issues, traffic can be redirected to another provider to maintain service continuity.\n",
    "\n",
    "2. Scalability and Performance Optimization:\n",
    "   - Different cloud providers may excel in specific areas or offer specialized services. By leveraging multiple clouds, organizations can choose the best-fit cloud for different parts of their model deployment pipeline.\n",
    "   - For example, one cloud provider may offer excellent GPU support for model inference, while another may provide cost-effective storage solutions.\n",
    "\n",
    "3. Cost Optimization:\n",
    "   - Multi-cloud strategies allow organizations to optimize costs by leveraging competitive pricing and discounts offered by different cloud providers.\n",
    "   - Organizations can also allocate workloads to cloud providers based on cost-efficiency, especially for burstable or seasonal workloads.\n",
    "\n",
    "4. Vendor Lock-In Mitigation:\n",
    "   - Relying on a single cloud provider can lead to vendor lock-in, making it challenging to migrate services and data. Multi-cloud strategies reduce this risk by diversifying providers.\n",
    "   - Organizations can maintain more control over their data and infrastructure choices.\n",
    "\n",
    "5. Hybrid Deployments:\n",
    "   - Multi-cloud platforms enable hybrid deployments, where some components of the model deployment pipeline are hosted on-premises or in a private cloud, while others run in public clouds.\n",
    "   - This flexibility is useful for organizations with existing infrastructure investments.\n",
    "\n",
    "6. Load Balancing and Traffic Management:\n",
    "   - Multi-cloud platforms can be used to implement load balancing and traffic management solutions that distribute incoming requests across multiple cloud providers based on factors like latency, cost, and resource utilization.\n",
    "\n",
    "7. Global Reach:\n",
    "   - For organizations with a global user base, deploying models across multiple cloud providers can help reduce latency and improve user experience by serving requests from geographically distributed data centers.\n",
    "\n",
    "It's important to note that while multi-cloud platforms offer numerous advantages, they also introduce complexity in terms of management, monitoring, and cost control. Organizations must carefully plan and implement their multi-cloud strategies to ensure they align with their business goals and technical capabilities. Additionally, using cloud management and orchestration tools can simplify the management of multi-cloud deployments."
   ]
  },
  {
   "cell_type": "markdown",
   "id": "4f39b74c-fcaf-4f10-8d1f-93802245c647",
   "metadata": {},
   "source": [
    "Q10. Discuss the benefits and challenges of deploying machine learning models in a multi-cloud environment."
   ]
  },
  {
   "cell_type": "markdown",
   "id": "a38f5014-f0db-4b6d-a490-c15abc03f94a",
   "metadata": {},
   "source": [
    "Deploying machine learning models in a multi-cloud environment offers several benefits and opportunities, but it also presents various challenges that organizations need to consider. Here's an overview of the benefits and challenges of multi-cloud model deployment:\n",
    "\n",
    "**Benefits of Multi-Cloud Model Deployment**:\n",
    "\n",
    "1. Redundancy and High Availability:\n",
    "   - Benefit: Multi-cloud deployments enhance system resilience by distributing workloads across multiple cloud providers or regions. This redundancy minimizes downtime and improves availability.\n",
    "   - Use Case: Critical applications and services that require continuous operation.\n",
    "\n",
    "2. Cost Optimization:\n",
    "   - Benefit: Organizations can take advantage of competitive pricing and discounts offered by different cloud providers, leading to cost savings.\n",
    "   - Use Case: Cost-sensitive projects or workloads with fluctuating resource requirements.\n",
    "\n",
    "3. Scalability and Performance:\n",
    "   - Benefit: Organizations can choose the cloud provider that offers the best performance and specialized services for specific parts of the model deployment pipeline.\n",
    "   - Use Case: Leveraging GPU instances from one provider for model inference while using another for data storage.\n",
    "\n",
    "4. Vendor Lock-In Mitigation:\n",
    "   - Benefit: Multi-cloud strategies reduce the risk of vendor lock-in, making it easier to migrate services and data between providers.\n",
    "   - Use Case: Long-term flexibility and control over infrastructure choices.\n",
    "\n",
    "5. Hybrid Deployments:\n",
    "   - Benefit: Hybrid deployments, combining on-premises, private cloud, and public cloud resources, offer flexibility and the ability to leverage existing investments.\n",
    "   - Use Case: Gradual migration to the cloud or integration with legacy systems.\n",
    "\n",
    "Challenges of Multi-Cloud Model Deployment:\n",
    "\n",
    "1. Complexity and Management:\n",
    "   - Challenge: Managing resources, configurations, and security across multiple cloud providers increases complexity and requires specialized expertise.\n",
    "   - Mitigation: Use cloud management and orchestration tools to simplify management tasks.\n",
    "\n",
    "2. Interoperability:\n",
    "   - Challenge: Ensuring interoperability between different cloud providers, especially when using provider-specific services, can be challenging.\n",
    "   - Mitigation: Standardize interfaces and prioritize cloud-agnostic services and architectures.\n",
    "\n",
    "3. Cost Tracking and Optimization:\n",
    "   - Challenge: Monitoring and optimizing costs across multiple cloud providers can be complex, potentially leading to unexpected expenses.\n",
    "   - Mitigation: Implement cost monitoring and optimization tools and practices to control spending.\n",
    "\n",
    "4. Security and Compliance:\n",
    "   - Challenge: Implementing consistent security and compliance practices across multiple clouds requires meticulous planning and execution.\n",
    "   - Mitigation: Adopt a comprehensive security strategy and use tools for centralized compliance monitoring and management.\n"
   ]
  }
 ],
 "metadata": {
  "kernelspec": {
   "display_name": "Python 3 (ipykernel)",
   "language": "python",
   "name": "python3"
  },
  "language_info": {
   "codemirror_mode": {
    "name": "ipython",
    "version": 3
   },
   "file_extension": ".py",
   "mimetype": "text/x-python",
   "name": "python",
   "nbconvert_exporter": "python",
   "pygments_lexer": "ipython3",
   "version": "3.10.8"
  }
 },
 "nbformat": 4,
 "nbformat_minor": 5
}
